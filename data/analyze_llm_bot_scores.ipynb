{
 "cells": [
  {
   "cell_type": "code",
   "execution_count": 1,
   "metadata": {},
   "outputs": [],
   "source": [
    "import json"
   ]
  },
  {
   "cell_type": "code",
   "execution_count": 2,
   "metadata": {},
   "outputs": [],
   "source": [
    "def load_json(file_path):\n",
    "\twith open(file_path, 'r') as file:\n",
    "\t\tdata = json.load(file)\n",
    "\treturn data\n",
    "\n",
    "all_bots = load_json('cleaned/comments/all_bots.json')\n",
    "all_humans = load_json('cleaned/comments/all_humans.json')\n",
    "creme_bots = load_json('cleaned/comments/creme_bots.json')\n",
    "creme_humans = load_json('cleaned/comments/creme_humans.json')"
   ]
  },
  {
   "cell_type": "code",
   "execution_count": 6,
   "metadata": {},
   "outputs": [
    {
     "name": "stdout",
     "output_type": "stream",
     "text": [
      "445\n",
      "438\n"
     ]
    }
   ],
   "source": [
    "def filter_only_accounts_with_gpt2_score(data):\n",
    "\tfiltered_data = []\n",
    "\tfor account in data:\n",
    "\t\tif 'gpt2_score' in account and account['gpt2_score'] is not None:\n",
    "\t\t\tfiltered_data.append(account)\n",
    "\treturn filtered_data\n",
    "\n",
    "all_bots = filter_only_accounts_with_gpt2_score(all_bots)\n",
    "all_humans = filter_only_accounts_with_gpt2_score(all_humans)\n",
    "creme_bots = filter_only_accounts_with_gpt2_score(creme_bots)\n",
    "creme_humans = filter_only_accounts_with_gpt2_score(creme_humans)"
   ]
  },
  {
   "cell_type": "code",
   "execution_count": 11,
   "metadata": {},
   "outputs": [
    {
     "name": "stdout",
     "output_type": "stream",
     "text": [
      "Training Bot Detection Success Rate: 127 out of 323 bots (**39.32% accuracy**)\n",
      "Training Human Detection Success Rate: 258 out of 290 humans (**88.97% accuracy**)\n",
      "\n",
      "Live Bot Detection Success Rate: 261 out of 438 bots (**59.59% accuracy**)\n",
      "Live Human Detection Success Rate: 515 out of 621 humans (**82.93% accuracy**)\n"
     ]
    }
   ],
   "source": [
    "def get_n_correct(data, is_bot: bool):\n",
    "\tn_correct = 0\n",
    "\tfor account in data:\n",
    "\t\tis_predicted_bot = account['gpt2_score']['fake_probability'] > 0.5\n",
    "\t\tif is_bot == is_predicted_bot:\n",
    "\t\t\tn_correct += 1\n",
    "\treturn n_correct\n",
    "\n",
    "\n",
    "creme_bots_correct = get_n_correct(creme_bots, True)\n",
    "creme_bots_total = len(creme_bots)\n",
    "print(f\"Training Bot Detection Success Rate: {creme_bots_correct} out of {creme_bots_total} bots (**{100 * creme_bots_correct / creme_bots_total:.2f}% accuracy**)\")\n",
    "\n",
    "creme_humans_correct = get_n_correct(creme_humans, False)\n",
    "creme_humans_total = len(creme_humans)\n",
    "print(f\"Training Human Detection Success Rate: {creme_humans_correct} out of {creme_humans_total} humans (**{100 * creme_humans_correct / creme_humans_total:.2f}% accuracy**)\")\n",
    "\n",
    "print()\n",
    "\n",
    "all_bots_correct = get_n_correct(all_bots, True)\n",
    "all_bots_total = len(all_bots)\n",
    "print(f\"Live Bot Detection Success Rate: {all_bots_correct} out of {all_bots_total} bots (**{100 * all_bots_correct / all_bots_total:.2f}% accuracy**)\")\n",
    "\n",
    "all_humans_correct = get_n_correct(all_humans, False)\n",
    "all_humans_total = len(all_humans)\n",
    "print(f\"Live Human Detection Success Rate: {all_humans_correct} out of {all_humans_total} humans (**{100 * all_humans_correct / all_humans_total:.2f}% accuracy**)\")\n",
    "\n",
    "\n"
   ]
  },
  {
   "cell_type": "code",
   "execution_count": 12,
   "metadata": {},
   "outputs": [
    {
     "name": "stdout",
     "output_type": "stream",
     "text": [
      "Live Bot Detection Success Rate (GPT in name): 107 out of 128 bots (**83.59% accuracy**)\n"
     ]
    }
   ],
   "source": [
    "def filter_only_accounts_with_gpt_in_account_name(data):\n",
    "\tfiltered_data = []\n",
    "\tfor account in data:\n",
    "\t\tif 'gpt' in account['username'].lower():\n",
    "\t\t\tfiltered_data.append(account)\n",
    "\treturn filtered_data\n",
    "\n",
    "all_bots_gpt_only = filter_only_accounts_with_gpt_in_account_name(all_bots)\n",
    "\n",
    "all_bots_gpt_only_correct = get_n_correct(all_bots_gpt_only, True)\n",
    "all_bots_gpt_only_total = len(all_bots_gpt_only)\n",
    "print(f\"Live Bot Detection Success Rate (GPT in name): {all_bots_gpt_only_correct} out of {all_bots_gpt_only_total} bots (**{100 * all_bots_gpt_only_correct / all_bots_gpt_only_total:.2f}% accuracy**)\")"
   ]
  }
 ],
 "metadata": {
  "kernelspec": {
   "display_name": "Python 3",
   "language": "python",
   "name": "python3"
  },
  "language_info": {
   "codemirror_mode": {
    "name": "ipython",
    "version": 3
   },
   "file_extension": ".py",
   "mimetype": "text/x-python",
   "name": "python",
   "nbconvert_exporter": "python",
   "pygments_lexer": "ipython3",
   "version": "3.10.13"
  }
 },
 "nbformat": 4,
 "nbformat_minor": 2
}
