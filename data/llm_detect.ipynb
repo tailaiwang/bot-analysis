{
 "cells": [
  {
   "cell_type": "code",
   "execution_count": 1,
   "metadata": {},
   "outputs": [],
   "source": [
    "import json\n",
    "import requests"
   ]
  },
  {
   "cell_type": "code",
   "execution_count": 6,
   "metadata": {},
   "outputs": [],
   "source": [
    "def get_ai_score(text):\n",
    "\turl = 'https://contentatscale.ai/ai-content-detector/'\n",
    "\theaders = {\n",
    "\t\t'authority': 'contentatscale.ai',\n",
    "\t\t'accept': '*/*',\n",
    "\t\t'accept-language': 'en-US,en;q=0.9',\n",
    "\t\t'content-type': 'application/x-www-form-urlencoded; charset=UTF-8',\n",
    "\t\t'cookie': '_cas_stats=eyJVc2VyQWdlbnQiOiJNb3ppbGxhLzUuMCAoTWFjaW50b3NoOyBJbnRlbCBNYWMgT1MgWCAxMF8xNV83KSBBcHBsZVdlYktpdC81MzcuMzYgKEtIVE1MLCBsaWtlIEdlY2tvKSBDaHJvbWUvMTIyLjAuMC4wIFNhZmFyaS81MzcuMzYiLCJMYW5ndWFnZSI6ImVuLVVTIiwiU2NyZWVuV2lkdGgiOjE2OTIsIlNjcmVlbkhlaWdodCI6MzAwOCwiQ29sb3JEZXB0aCI6MjQsIlRpbWVab25lT2Zmc2V0IjoyNDAsIlBsdWdpbnMiOiJQREYgVmlld2VyLCBDaHJvbWUgUERGIFZpZXdlciwgQ2hyb21pdW0gUERGIFZpZXdlciwgTWljcm9zb2Z0IEVkZ2UgUERGIFZpZXdlciwgV2ViS2l0IGJ1aWx0LWluIFBERiJ9',\n",
    "\t\t'dnt': '1',\n",
    "\t\t'origin': 'https://contentatscale.ai',\n",
    "\t\t'referer': 'https://contentatscale.ai/ai-content-detector/',\n",
    "\t\t'sec-ch-ua': '\"Chromium\";v=\"122\", \"Not(A:Brand\";v=\"24\", \"Google Chrome\";v=\"122\"',\n",
    "\t\t'sec-ch-ua-mobile': '?0',\n",
    "\t\t'sec-ch-ua-platform': '\"macOS\"',\n",
    "\t\t'sec-fetch-dest': 'empty',\n",
    "\t\t'sec-fetch-mode': 'cors',\n",
    "\t\t'sec-fetch-site': 'same-origin',\n",
    "\t\t'user-agent': 'Mozilla/5.0 (Macintosh; Intel Mac OS X 10_15_7) AppleWebKit/537.36 (KHTML, like Gecko) Chrome/122.0.0.0 Safari/537.36',\n",
    "\t\t'x-requested-with': 'XMLHttpRequest'\n",
    "\t}\n",
    "\n",
    "\tdata = {\n",
    "\t\t'content': f\"<p>{text}</p>\",\n",
    "\t\t'action': 'checkaiscore'\n",
    "\t}\n",
    "\n",
    "\tresponse = requests.post(url, headers=headers, data=data)\n",
    "\n",
    "\tif response.status_code == 200:\n",
    "\t\t# Get JSON data from the response\n",
    "\t\treturn response.json()\n",
    "\telse:\n",
    "\t\traise Exception(f\"Request was not successful. Status code: {response.status_code}\")"
   ]
  },
  {
   "cell_type": "code",
   "execution_count": 8,
   "metadata": {},
   "outputs": [
    {
     "data": {
      "text/plain": [
       "{'status': 'Failure', 'message': 'Valid Text is required.'}"
      ]
     },
     "execution_count": 8,
     "metadata": {},
     "output_type": "execute_result"
    }
   ],
   "source": [
    "get_ai_score(\"text\")"
   ]
  }
 ],
 "metadata": {
  "kernelspec": {
   "display_name": "Python 3",
   "language": "python",
   "name": "python3"
  },
  "language_info": {
   "codemirror_mode": {
    "name": "ipython",
    "version": 3
   },
   "file_extension": ".py",
   "mimetype": "text/x-python",
   "name": "python",
   "nbconvert_exporter": "python",
   "pygments_lexer": "ipython3",
   "version": "3.10.13"
  }
 },
 "nbformat": 4,
 "nbformat_minor": 2
}
